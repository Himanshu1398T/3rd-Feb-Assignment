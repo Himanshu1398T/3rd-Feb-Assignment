{
 "cells": [
  {
   "cell_type": "markdown",
   "id": "cc3de3d4",
   "metadata": {},
   "source": [
    "### Q1. Which keyword is used to create a function? Create a function to return a list of odd numbers in the range of 1 to 25."
   ]
  },
  {
   "cell_type": "markdown",
   "id": "de9ab6ae",
   "metadata": {},
   "source": [
    "#### Ans:\n",
    "' def ' keyword is used to create a function in python."
   ]
  },
  {
   "cell_type": "code",
   "execution_count": 5,
   "id": "c306802f",
   "metadata": {},
   "outputs": [],
   "source": [
    "def odd_num(n):\n",
    "    l = []\n",
    "    for i in range(n+1):\n",
    "        if i%2 != 0:\n",
    "            l.append(i)\n",
    "    return l"
   ]
  },
  {
   "cell_type": "code",
   "execution_count": 6,
   "id": "b5da1156",
   "metadata": {},
   "outputs": [
    {
     "data": {
      "text/plain": [
       "[1, 3, 5, 7, 9, 11, 13, 15, 17, 19, 21, 23, 25]"
      ]
     },
     "execution_count": 6,
     "metadata": {},
     "output_type": "execute_result"
    }
   ],
   "source": [
    "odd_num(25)"
   ]
  },
  {
   "cell_type": "markdown",
   "id": "ecd4e3cf",
   "metadata": {},
   "source": [
    "### Q2. Why * args and ** kwargs is used in some functions? Create a function each for *args and **kwargs to demonstrate their use."
   ]
  },
  {
   "cell_type": "markdown",
   "id": "8a06ab5d",
   "metadata": {},
   "source": [
    "#### Ans:\n",
    "When defining a function, sometimes we don't know the total number of argument user will put, * arg allows us to bypass that. </br>\n",
    "*args in function definitions in python is used to pass a variable number of arguments to a function."
   ]
  },
  {
   "cell_type": "code",
   "execution_count": 7,
   "id": "97c87d65",
   "metadata": {},
   "outputs": [],
   "source": [
    "def myFun(*arg):\n",
    "    for arg in arg:\n",
    "        print(arg)"
   ]
  },
  {
   "cell_type": "code",
   "execution_count": 9,
   "id": "becc5c82",
   "metadata": {},
   "outputs": [
    {
     "name": "stdout",
     "output_type": "stream",
     "text": [
      "1\n",
      "2\n",
      "Hello\n",
      "[1,2,3]\n"
     ]
    }
   ],
   "source": [
    "myFun('1', '2','Hello','[1,2,3]')"
   ]
  },
  {
   "cell_type": "markdown",
   "id": "d99fc7f8",
   "metadata": {},
   "source": [
    "if we need to handle arbitrary numbers of keyworded arguments, it can be done using ** kwargs.</br>\n",
    "** kwargs in function definitions in python is used to pass a keyworded, variable-length argument list."
   ]
  },
  {
   "cell_type": "code",
   "execution_count": 13,
   "id": "7860e77a",
   "metadata": {},
   "outputs": [],
   "source": [
    "def myfunc(**kwargs):\n",
    "    if 'fruit' in kwargs:\n",
    "        print(f\"My favorite fruit is {kwargs['fruit']}\")\n",
    "    else:\n",
    "        print(\"I don't like fruit\")"
   ]
  },
  {
   "cell_type": "code",
   "execution_count": 14,
   "id": "fe46869d",
   "metadata": {},
   "outputs": [
    {
     "name": "stdout",
     "output_type": "stream",
     "text": [
      "My favorite fruit is pineapple\n"
     ]
    }
   ],
   "source": [
    "myfunc(fruit='pineapple')"
   ]
  },
  {
   "cell_type": "markdown",
   "id": "ccfe8222",
   "metadata": {},
   "source": [
    "### Q3. What is an iterator in python? Name the method used to initialise the iterator object and the method used for iteration. Use these methods to print the first five elements of the given list [2, 4, 6, 8, 10, 12, 14, 16, 18, 20]."
   ]
  },
  {
   "cell_type": "markdown",
   "id": "ccbd72ae",
   "metadata": {},
   "source": [
    "#### Ans:\n",
    "An iterator is an object that contains a countable number of values. An iterator is an object that can be iterated upon, meaning that you can traverse through all the values. \n",
    "\n",
    "__iter__(): The iter() method is called for the initialization of an iterator. This returns an iterator object\n",
    "\n",
    "__next__(): The next method returns the next value for the iterable."
   ]
  },
  {
   "cell_type": "code",
   "execution_count": 22,
   "id": "aff69d63",
   "metadata": {},
   "outputs": [
    {
     "name": "stdout",
     "output_type": "stream",
     "text": [
      "2\n",
      "4\n",
      "6\n",
      "8\n",
      "10\n"
     ]
    }
   ],
   "source": [
    "l = [2, 4, 6, 8, 10, 12, 14, 16, 18, 20]\n",
    "x = iter(l)\n",
    "i = 0\n",
    "while i<5:\n",
    "    print(next(x))\n",
    "    i +=1"
   ]
  },
  {
   "cell_type": "markdown",
   "id": "074dabe7",
   "metadata": {},
   "source": [
    "### Q4. What is a generator function in python? Why yield keyword is used? Give an example of a generator function.\n"
   ]
  },
  {
   "cell_type": "markdown",
   "id": "a4a0ad19",
   "metadata": {},
   "source": [
    "#### Ans:\n",
    "A generator is a special type of function which does not return a single value, instead, it returns an iterator object with a sequence of values. In a generator function, a yield statement is used rather than a return statement. The following is a simple generator function. "
   ]
  },
  {
   "cell_type": "markdown",
   "id": "8cf5a531",
   "metadata": {},
   "source": [
    "The yield expression is used when defining a generator function thus can only be used in the body of a function definition.\n",
    "It is similar to a return statement used for returning values in Python.\n",
    "When we call a function that has a yield statement, as soon as the yield is encountered, the execution of the function halts and returns a generator iterator object instead of simply returning a value."
   ]
  },
  {
   "cell_type": "code",
   "execution_count": 23,
   "id": "5d6d1f16",
   "metadata": {},
   "outputs": [],
   "source": [
    "def simple():  \n",
    "    for i in range(10):  \n",
    "        if(i%2==0):  \n",
    "            yield i  "
   ]
  },
  {
   "cell_type": "code",
   "execution_count": 24,
   "id": "5c0b911f",
   "metadata": {},
   "outputs": [
    {
     "name": "stdout",
     "output_type": "stream",
     "text": [
      "0\n",
      "2\n",
      "4\n",
      "6\n",
      "8\n"
     ]
    }
   ],
   "source": [
    "for i in simple():  \n",
    "    print(i)  "
   ]
  },
  {
   "cell_type": "markdown",
   "id": "c3fe7464",
   "metadata": {},
   "source": [
    "### Q5. Create a generator function for prime numbers less than 1000. Use the next() method to print the first 20 prime numbers."
   ]
  },
  {
   "cell_type": "code",
   "execution_count": 66,
   "id": "a18ee2a7",
   "metadata": {},
   "outputs": [],
   "source": [
    "def getPrimes(n):\n",
    "    i = 2\n",
    "    while i < n :\n",
    "        prime = True\n",
    "        for a in range(2, i):\n",
    "            if i%a == 0:\n",
    "                prime = False\n",
    "                break\n",
    "        if prime:    \n",
    "            yield i\n",
    "        i += 1       "
   ]
  },
  {
   "cell_type": "code",
   "execution_count": 67,
   "id": "509e3c63",
   "metadata": {},
   "outputs": [
    {
     "name": "stdout",
     "output_type": "stream",
     "text": [
      "[2, 3, 5, 7, 11, 13, 17, 19, 23, 29, 31, 37, 41, 43, 47, 53, 59, 61, 67, 71, 73, 79, 83, 89, 97, 101, 103, 107, 109, 113, 127, 131, 137, 139, 149, 151, 157, 163, 167, 173, 179, 181, 191, 193, 197, 199, 211, 223, 227, 229, 233, 239, 241, 251, 257, 263, 269, 271, 277, 281, 283, 293, 307, 311, 313, 317, 331, 337, 347, 349, 353, 359, 367, 373, 379, 383, 389, 397, 401, 409, 419, 421, 431, 433, 439, 443, 449, 457, 461, 463, 467, 479, 487, 491, 499, 503, 509, 521, 523, 541, 547, 557, 563, 569, 571, 577, 587, 593, 599, 601, 607, 613, 617, 619, 631, 641, 643, 647, 653, 659, 661, 673, 677, 683, 691, 701, 709, 719, 727, 733, 739, 743, 751, 757, 761, 769, 773, 787, 797, 809, 811, 821, 823, 827, 829, 839, 853, 857, 859, 863, 877, 881, 883, 887, 907, 911, 919, 929, 937, 941, 947, 953, 967, 971, 977, 983, 991, 997]\n"
     ]
    }
   ],
   "source": [
    "l = []\n",
    "for i in getPrimes(1000):\n",
    "    l.append(i)\n",
    "print(l)"
   ]
  },
  {
   "cell_type": "code",
   "execution_count": 68,
   "id": "aa82c372",
   "metadata": {},
   "outputs": [
    {
     "name": "stdout",
     "output_type": "stream",
     "text": [
      "2 3 5 7 11 13 17 19 23 29 31 37 41 43 47 53 59 61 67 71 "
     ]
    }
   ],
   "source": [
    "x = iter(l)\n",
    "i = 0\n",
    "while i<20:\n",
    "    print(next(x), end = ' ')\n",
    "    i +=1"
   ]
  },
  {
   "cell_type": "code",
   "execution_count": null,
   "id": "e39c0360",
   "metadata": {},
   "outputs": [],
   "source": []
  }
 ],
 "metadata": {
  "kernelspec": {
   "display_name": "Python 3 (ipykernel)",
   "language": "python",
   "name": "python3"
  },
  "language_info": {
   "codemirror_mode": {
    "name": "ipython",
    "version": 3
   },
   "file_extension": ".py",
   "mimetype": "text/x-python",
   "name": "python",
   "nbconvert_exporter": "python",
   "pygments_lexer": "ipython3",
   "version": "3.9.13"
  }
 },
 "nbformat": 4,
 "nbformat_minor": 5
}
